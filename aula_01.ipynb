{
 "cells": [
  {
   "cell_type": "markdown",
   "id": "24a6db32",
   "metadata": {},
   "source": [
    "# Aula 01 - Introdução ao Numpy"
   ]
  },
  {
   "cell_type": "code",
   "execution_count": 1,
   "id": "e74749da",
   "metadata": {},
   "outputs": [
    {
     "name": "stdout",
     "output_type": "stream",
     "text": [
      "Requirement already satisfied: numpy in /usr/lib/python3/dist-packages (1.17.4)\r\n"
     ]
    }
   ],
   "source": [
    "! pip install numpy"
   ]
  },
  {
   "cell_type": "markdown",
   "id": "5867d765",
   "metadata": {},
   "source": [
    "## O que é a Biblioteca Numpy?\n",
    "\n",
    "Numpy é uma biblioteca natemática que pode trabalhar com matrizes Multdimencionais "
   ]
  },
  {
   "cell_type": "markdown",
   "id": "b1460a57",
   "metadata": {},
   "source": [
    "   ### Importando a Biblioteca Numpy"
   ]
  },
  {
   "cell_type": "code",
   "execution_count": 2,
   "id": "797db775",
   "metadata": {},
   "outputs": [],
   "source": [
    "import numpy as np"
   ]
  },
  {
   "cell_type": "markdown",
   "id": "a52dbcd8",
   "metadata": {},
   "source": [
    "### Criando um vetor com numpy"
   ]
  },
  {
   "cell_type": "code",
   "execution_count": 12,
   "id": "4770bcf1",
   "metadata": {},
   "outputs": [
    {
     "data": {
      "text/plain": [
       "array([1, 2, 3, 7, 8])"
      ]
     },
     "execution_count": 12,
     "metadata": {},
     "output_type": "execute_result"
    }
   ],
   "source": [
    "vetor = np.array([1, 2, 3, 7, 8])\n",
    "vetor"
   ]
  },
  {
   "cell_type": "markdown",
   "id": "60f17434",
   "metadata": {},
   "source": [
    "### Acessando os elementos do vetor numpy"
   ]
  },
  {
   "cell_type": "code",
   "execution_count": 15,
   "id": "e1621ec0",
   "metadata": {
    "scrolled": true
   },
   "outputs": [
    {
     "name": "stdout",
     "output_type": "stream",
     "text": [
      "1\n",
      "2\n"
     ]
    }
   ],
   "source": [
    "print(vetor[0])\n",
    "print(vetor[1])"
   ]
  },
  {
   "cell_type": "markdown",
   "id": "1da69681",
   "metadata": {},
   "source": [
    "### Multplicar o vetor por um escálavel"
   ]
  },
  {
   "cell_type": "code",
   "execution_count": 14,
   "id": "55c39376",
   "metadata": {},
   "outputs": [
    {
     "data": {
      "text/plain": [
       "array([ 2,  4,  6, 14, 16])"
      ]
     },
     "execution_count": 14,
     "metadata": {},
     "output_type": "execute_result"
    }
   ],
   "source": [
    "vetor2 = 2*vetor\n",
    "vetor2"
   ]
  },
  {
   "cell_type": "markdown",
   "id": "7da3229f",
   "metadata": {},
   "source": [
    "### Percorendo o veor com um laço for"
   ]
  },
  {
   "cell_type": "code",
   "execution_count": 17,
   "id": "e25ba5f4",
   "metadata": {},
   "outputs": [
    {
     "name": "stdout",
     "output_type": "stream",
     "text": [
      "0.5\n",
      "1.0\n",
      "1.5\n",
      "3.5\n",
      "4.0\n"
     ]
    }
   ],
   "source": [
    "for i in vetor:\n",
    "    print(i/2)"
   ]
  },
  {
   "cell_type": "code",
   "execution_count": null,
   "id": "8037b00d",
   "metadata": {},
   "outputs": [],
   "source": []
  }
 ],
 "metadata": {
  "kernelspec": {
   "display_name": "Python 3 (ipykernel)",
   "language": "python",
   "name": "python3"
  },
  "language_info": {
   "codemirror_mode": {
    "name": "ipython",
    "version": 3
   },
   "file_extension": ".py",
   "mimetype": "text/x-python",
   "name": "python",
   "nbconvert_exporter": "python",
   "pygments_lexer": "ipython3",
   "version": "3.8.10"
  }
 },
 "nbformat": 4,
 "nbformat_minor": 5
}
