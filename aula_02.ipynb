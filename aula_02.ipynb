{
 "cells": [
  {
   "cell_type": "markdown",
   "id": "52d6b065",
   "metadata": {},
   "source": [
    "# Matrizes Multidimensionais com Numpy"
   ]
  },
  {
   "cell_type": "code",
   "execution_count": 2,
   "id": "2be71c1d",
   "metadata": {},
   "outputs": [],
   "source": [
    "import numpy as np"
   ]
  },
  {
   "cell_type": "markdown",
   "id": "5356eaa7",
   "metadata": {},
   "source": [
    "## Vetor "
   ]
  },
  {
   "cell_type": "code",
   "execution_count": 4,
   "id": "ce4a7e04",
   "metadata": {
    "scrolled": true
   },
   "outputs": [
    {
     "data": {
      "text/plain": [
       "array([1, 2, 4, 5])"
      ]
     },
     "execution_count": 4,
     "metadata": {},
     "output_type": "execute_result"
    }
   ],
   "source": [
    "matriz = np.array([1, 2, 4, 5])\n",
    "matriz"
   ]
  },
  {
   "cell_type": "code",
   "execution_count": 42,
   "id": "e7480f0d",
   "metadata": {},
   "outputs": [
    {
     "data": {
      "text/plain": [
       "2"
      ]
     },
     "execution_count": 42,
     "metadata": {},
     "output_type": "execute_result"
    }
   ],
   "source": [
    "matriz[1]"
   ]
  },
  {
   "cell_type": "code",
   "execution_count": 41,
   "id": "15dc2251",
   "metadata": {},
   "outputs": [
    {
     "data": {
      "text/plain": [
       "(4,)"
      ]
     },
     "execution_count": 41,
     "metadata": {},
     "output_type": "execute_result"
    }
   ],
   "source": [
    "matriz.shape"
   ]
  },
  {
   "cell_type": "markdown",
   "id": "7884be99",
   "metadata": {},
   "source": [
    "### Acessando os Elementos de uma Matriz 1D (Vetor)"
   ]
  },
  {
   "cell_type": "code",
   "execution_count": 24,
   "id": "22193c73",
   "metadata": {
    "scrolled": true
   },
   "outputs": [
    {
     "name": "stdout",
     "output_type": "stream",
     "text": [
      "1 2 4 5 "
     ]
    }
   ],
   "source": [
    "for i in matriz:\n",
    "    print(i, end=\" \")"
   ]
  },
  {
   "cell_type": "markdown",
   "id": "938c4d92",
   "metadata": {},
   "source": [
    "## Matriz 2D"
   ]
  },
  {
   "cell_type": "code",
   "execution_count": 44,
   "id": "cd46abfa",
   "metadata": {
    "scrolled": false
   },
   "outputs": [
    {
     "data": {
      "text/plain": [
       "array([[1, 2, 3, 4],\n",
       "       [4, 3, 2, 1]])"
      ]
     },
     "execution_count": 44,
     "metadata": {},
     "output_type": "execute_result"
    }
   ],
   "source": [
    "matriz_2d = np.array([[1, 2, 3, 4], [4, 3, 2, 1]])\n",
    "matriz_2d"
   ]
  },
  {
   "cell_type": "code",
   "execution_count": 45,
   "id": "c6c28428",
   "metadata": {},
   "outputs": [
    {
     "data": {
      "text/plain": [
       "(2, 4)"
      ]
     },
     "execution_count": 45,
     "metadata": {},
     "output_type": "execute_result"
    }
   ],
   "source": [
    "matriz_2d.shape"
   ]
  },
  {
   "cell_type": "markdown",
   "id": "7b6607a3",
   "metadata": {},
   "source": [
    "### Acessando os Elementos de uma Matriz 2D"
   ]
  },
  {
   "cell_type": "code",
   "execution_count": 46,
   "id": "fedc4996",
   "metadata": {
    "scrolled": true
   },
   "outputs": [
    {
     "data": {
      "text/plain": [
       "1"
      ]
     },
     "execution_count": 46,
     "metadata": {},
     "output_type": "execute_result"
    }
   ],
   "source": [
    "matriz_2d[0][0]"
   ]
  },
  {
   "cell_type": "code",
   "execution_count": 47,
   "id": "0a52ecb6",
   "metadata": {
    "scrolled": true
   },
   "outputs": [
    {
     "data": {
      "text/plain": [
       "1"
      ]
     },
     "execution_count": 47,
     "metadata": {},
     "output_type": "execute_result"
    }
   ],
   "source": [
    "matriz_2d[1][3]"
   ]
  },
  {
   "cell_type": "code",
   "execution_count": 49,
   "id": "3502c86d",
   "metadata": {},
   "outputs": [
    {
     "name": "stdout",
     "output_type": "stream",
     "text": [
      "3 4 \n",
      "\n",
      "4 3 \n",
      "\n",
      "fim\n"
     ]
    }
   ],
   "source": [
    "for i in matriz_2d:\n",
    "    for j in i:\n",
    "        if (j > 2):\n",
    "            print(j, end=\" \")\n",
    "    print(\"\\n\")\n",
    "print(\"fim\")"
   ]
  },
  {
   "cell_type": "markdown",
   "id": "5acc26c5",
   "metadata": {},
   "source": [
    "## Matriz 3D"
   ]
  },
  {
   "cell_type": "code",
   "execution_count": 33,
   "id": "c1994ca7",
   "metadata": {
    "scrolled": true
   },
   "outputs": [
    {
     "data": {
      "text/plain": [
       "array([[[ 1,  2,  3],\n",
       "        [ 4,  5,  6]],\n",
       "\n",
       "       [[ 7,  8,  9],\n",
       "        [10, 11, 12]]])"
      ]
     },
     "execution_count": 33,
     "metadata": {},
     "output_type": "execute_result"
    }
   ],
   "source": [
    "matriz_3d = np.array([ [[1, 2, 3], [4, 5, 6]], [[7, 8, 9], [10, 11, 12]] ])\n",
    "matriz_3d"
   ]
  },
  {
   "cell_type": "code",
   "execution_count": 50,
   "id": "7d1caa4f",
   "metadata": {},
   "outputs": [
    {
     "data": {
      "text/plain": [
       "(2, 2, 3)"
      ]
     },
     "execution_count": 50,
     "metadata": {},
     "output_type": "execute_result"
    }
   ],
   "source": [
    "matriz_3d.shape"
   ]
  },
  {
   "cell_type": "markdown",
   "id": "c3fcdd7f",
   "metadata": {},
   "source": [
    "### Acessando os Elementos de uma Matriz 3D"
   ]
  },
  {
   "cell_type": "code",
   "execution_count": 51,
   "id": "a884a909",
   "metadata": {},
   "outputs": [
    {
     "data": {
      "text/plain": [
       "4"
      ]
     },
     "execution_count": 51,
     "metadata": {},
     "output_type": "execute_result"
    }
   ],
   "source": [
    "matriz_3d[0][1][0]"
   ]
  },
  {
   "cell_type": "code",
   "execution_count": 52,
   "id": "d179f4e9",
   "metadata": {},
   "outputs": [
    {
     "data": {
      "text/plain": [
       "12"
      ]
     },
     "execution_count": 52,
     "metadata": {},
     "output_type": "execute_result"
    }
   ],
   "source": [
    "matriz_3d[1][1][2]"
   ]
  },
  {
   "cell_type": "code",
   "execution_count": 55,
   "id": "a4c54dd8",
   "metadata": {},
   "outputs": [
    {
     "name": "stdout",
     "output_type": "stream",
     "text": [
      "1 2 3 \n",
      "\n",
      "4 5 6 \n",
      "\n",
      "\n",
      "\n",
      "\n",
      "7 8 9 \n",
      "\n",
      "10 11 12 \n",
      "\n",
      "\n",
      "\n",
      "\n"
     ]
    }
   ],
   "source": [
    "for i in matriz_3d:\n",
    "    for j in i:\n",
    "        for n in j:\n",
    "            print(n, end=\" \")\n",
    "        print(\"\\n\")\n",
    "    print(\"\\n\\n\")\n",
    "\n",
    "    "
   ]
  },
  {
   "cell_type": "code",
   "execution_count": null,
   "id": "7ecc62bf",
   "metadata": {},
   "outputs": [],
   "source": []
  }
 ],
 "metadata": {
  "kernelspec": {
   "display_name": "Python 3 (ipykernel)",
   "language": "python",
   "name": "python3"
  },
  "language_info": {
   "codemirror_mode": {
    "name": "ipython",
    "version": 3
   },
   "file_extension": ".py",
   "mimetype": "text/x-python",
   "name": "python",
   "nbconvert_exporter": "python",
   "pygments_lexer": "ipython3",
   "version": "3.8.10"
  }
 },
 "nbformat": 4,
 "nbformat_minor": 5
}
