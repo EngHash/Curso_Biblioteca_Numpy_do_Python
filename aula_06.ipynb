{
 "cells": [
  {
   "cell_type": "markdown",
   "id": "f82a7ff0",
   "metadata": {},
   "source": [
    "# <center> Produto  Vetorial Entre Matrizes com NumPy</center> \n"
   ]
  },
  {
   "cell_type": "markdown",
   "id": "6bf5b1aa",
   "metadata": {},
   "source": [
    "#### Importando a Biblioteca NumPy"
   ]
  },
  {
   "cell_type": "code",
   "execution_count": 3,
   "id": "97fd8eb7",
   "metadata": {},
   "outputs": [],
   "source": [
    "import numpy as np"
   ]
  },
  {
   "cell_type": "markdown",
   "id": "66d5813f",
   "metadata": {},
   "source": [
    "<br>\n",
    "\n",
    "##  Produto Vetorial"
   ]
  },
  {
   "cell_type": "markdown",
   "id": "8142a58e",
   "metadata": {},
   "source": [
    "> Em matemática, o produto vetorial é uma operação binária sobre dois vetores em um espaço vetorial tridimensional e é denotado por ×. Dados dois vetores independentes linearmente a e b, o produto vetorial a × b é um vetor perpendicular ao vetor a e ao vetor b e é a normal do plano contendo os dois vetores. Seu resultado difere do produto escalar por ser também um vetor, ao invés de um escalar.\n",
    "\n",
    ">> [Origem: Wikipédia, a enciclopédia livre.](https://pt.wikipedia.org/wiki/Produto_vetorial)\n",
    "\n",
    "##### Exemplo:\n",
    "\n",
    "![test](rasculhos_codes_etc/prod_cross.png)"
   ]
  },
  {
   "cell_type": "markdown",
   "id": "80dc6e9c",
   "metadata": {},
   "source": [
    "### Caso Unidimensionais"
   ]
  },
  {
   "cell_type": "markdown",
   "id": "0d6b3f29",
   "metadata": {},
   "source": [
    " - #### Criando as matrizes  (vetores)"
   ]
  },
  {
   "cell_type": "code",
   "execution_count": 7,
   "id": "e603fd22",
   "metadata": {},
   "outputs": [],
   "source": [
    "a = np.array([2, 3, 1])\n",
    "b = np.array([4, 5, 7])"
   ]
  },
  {
   "cell_type": "markdown",
   "id": "f238d56b",
   "metadata": {},
   "source": [
    "#### Encontrando o Produto Escalar com o Método np.cross() do NumPy"
   ]
  },
  {
   "cell_type": "code",
   "execution_count": 8,
   "id": "4ffd2bd9",
   "metadata": {},
   "outputs": [
    {
     "name": "stdout",
     "output_type": "stream",
     "text": [
      "[ 16 -10  -2]\n"
     ]
    }
   ],
   "source": [
    "v = np.cross(a, b)\n",
    "print(v)"
   ]
  },
  {
   "cell_type": "markdown",
   "id": "6d8cb9a6",
   "metadata": {},
   "source": [
    "<br>\n",
    "\n",
    "### Caso Multidimensional"
   ]
  },
  {
   "cell_type": "markdown",
   "id": "ec85e187",
   "metadata": {},
   "source": [
    "- #####  Criando as matrizes 2D"
   ]
  },
  {
   "cell_type": "code",
   "execution_count": 14,
   "id": "5147948e",
   "metadata": {},
   "outputs": [],
   "source": [
    "a = np.array([[1, 3, 4], [1, 3, 4]])\n",
    "b = np.array([[2, 2, 2], [2, 2, 2]])"
   ]
  },
  {
   "cell_type": "markdown",
   "id": "bb0de96e",
   "metadata": {},
   "source": [
    "#### Encontrando o Produto Escalar com o Método np.dot() do NumPy"
   ]
  },
  {
   "cell_type": "code",
   "execution_count": 15,
   "id": "781529c1",
   "metadata": {},
   "outputs": [
    {
     "data": {
      "text/plain": [
       "array([[-2,  6, -4],\n",
       "       [-2,  6, -4]])"
      ]
     },
     "execution_count": 15,
     "metadata": {},
     "output_type": "execute_result"
    }
   ],
   "source": [
    "v2 = np.cross(a, b)\n",
    "\n",
    "v2"
   ]
  },
  {
   "cell_type": "code",
   "execution_count": null,
   "id": "eca48d45",
   "metadata": {},
   "outputs": [],
   "source": []
  }
 ],
 "metadata": {
  "kernelspec": {
   "display_name": "Python 3 (ipykernel)",
   "language": "python",
   "name": "python3"
  },
  "language_info": {
   "codemirror_mode": {
    "name": "ipython",
    "version": 3
   },
   "file_extension": ".py",
   "mimetype": "text/x-python",
   "name": "python",
   "nbconvert_exporter": "python",
   "pygments_lexer": "ipython3",
   "version": "3.8.10"
  }
 },
 "nbformat": 4,
 "nbformat_minor": 5
}
