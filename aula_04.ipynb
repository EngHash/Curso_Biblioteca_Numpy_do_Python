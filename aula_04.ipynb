{
 "cells": [
  {
   "cell_type": "markdown",
   "id": "8661667d",
   "metadata": {},
   "source": [
    "# Operações Aritméticos Entre Matrizes Numpy"
   ]
  },
  {
   "cell_type": "markdown",
   "id": "1672e11d",
   "metadata": {},
   "source": [
    "#### Importando a Biblioteca Numpy"
   ]
  },
  {
   "cell_type": "code",
   "execution_count": 1,
   "id": "b7f0bdeb",
   "metadata": {},
   "outputs": [],
   "source": [
    "import numpy as np"
   ]
  },
  {
   "cell_type": "markdown",
   "id": "ebb6655e",
   "metadata": {},
   "source": [
    "<br>\n",
    "\n",
    "---\n",
    "\n",
    "## Operações Aritméticos Entre Matrizes Unidimensionais"
   ]
  },
  {
   "cell_type": "markdown",
   "id": "edad26d1",
   "metadata": {},
   "source": [
    "#### Criando os vetores para exemplificar"
   ]
  },
  {
   "cell_type": "code",
   "execution_count": 27,
   "id": "9a5e4466",
   "metadata": {},
   "outputs": [
    {
     "name": "stdout",
     "output_type": "stream",
     "text": [
      "vetor1: [1 2 3 4]\n",
      "vetor2: [1 2 3 4]\n"
     ]
    }
   ],
   "source": [
    "vetor1 = np.array([1, 2, 3, 4])\n",
    "vetor2 = np.array([1, 2, 3, 4])\n",
    "\n",
    "print(f\"vetor1: {vetor1}\")\n",
    "print(f\"vetor2: {vetor2}\")"
   ]
  },
  {
   "cell_type": "markdown",
   "id": "943cffac",
   "metadata": {},
   "source": [
    "<br>\n",
    "\n",
    "---\n",
    "- #####  Soma Entre Matrizes Unidimensionais"
   ]
  },
  {
   "cell_type": "code",
   "execution_count": 28,
   "id": "f5a29d5e",
   "metadata": {},
   "outputs": [
    {
     "data": {
      "text/plain": [
       "array([2, 4, 6, 8])"
      ]
     },
     "execution_count": 28,
     "metadata": {},
     "output_type": "execute_result"
    }
   ],
   "source": [
    "vetor1 + vetor2"
   ]
  },
  {
   "cell_type": "code",
   "execution_count": 45,
   "id": "75922a86",
   "metadata": {},
   "outputs": [
    {
     "data": {
      "text/plain": [
       "array([ 3,  6,  9, 12])"
      ]
     },
     "execution_count": 45,
     "metadata": {},
     "output_type": "execute_result"
    }
   ],
   "source": [
    "vetor1 + vetor2 + vetor2"
   ]
  },
  {
   "cell_type": "markdown",
   "id": "20650402",
   "metadata": {},
   "source": [
    "<br>\n",
    "\n",
    "---\n",
    "- ##### Subtração Entre Matrizes Unidimensionais"
   ]
  },
  {
   "cell_type": "code",
   "execution_count": 29,
   "id": "db6ac1f5",
   "metadata": {
    "scrolled": true
   },
   "outputs": [
    {
     "data": {
      "text/plain": [
       "array([0, 0, 0, 0])"
      ]
     },
     "execution_count": 29,
     "metadata": {},
     "output_type": "execute_result"
    }
   ],
   "source": [
    "vetor1 - vetor2"
   ]
  },
  {
   "cell_type": "code",
   "execution_count": 47,
   "id": "1f678fd3",
   "metadata": {},
   "outputs": [
    {
     "data": {
      "text/plain": [
       "array([-1, -2, -3, -4])"
      ]
     },
     "execution_count": 47,
     "metadata": {},
     "output_type": "execute_result"
    }
   ],
   "source": [
    "vetor1 - vetor2 - vetor2"
   ]
  },
  {
   "cell_type": "markdown",
   "id": "b374502a",
   "metadata": {},
   "source": [
    "<br>\n",
    "\n",
    "---\n",
    "- ##### Divisão Entre Matrizes Unidimensionais"
   ]
  },
  {
   "cell_type": "code",
   "execution_count": 30,
   "id": "e45b3cc7",
   "metadata": {},
   "outputs": [
    {
     "data": {
      "text/plain": [
       "array([1., 1., 1., 1.])"
      ]
     },
     "execution_count": 30,
     "metadata": {},
     "output_type": "execute_result"
    }
   ],
   "source": [
    "vetor1 / vetor2"
   ]
  },
  {
   "cell_type": "code",
   "execution_count": 48,
   "id": "f778c0c0",
   "metadata": {},
   "outputs": [
    {
     "data": {
      "text/plain": [
       "array([1.        , 0.5       , 0.33333333, 0.25      ])"
      ]
     },
     "execution_count": 48,
     "metadata": {},
     "output_type": "execute_result"
    }
   ],
   "source": [
    "vetor1 / vetor2 / vetor2"
   ]
  },
  {
   "cell_type": "markdown",
   "id": "fb885316",
   "metadata": {},
   "source": [
    "<br>\n",
    "\n",
    "---\n",
    "- ##### Multplicação Entre Matrizes Unidimensionais"
   ]
  },
  {
   "cell_type": "code",
   "execution_count": 23,
   "id": "9e6610ea",
   "metadata": {},
   "outputs": [
    {
     "data": {
      "text/plain": [
       "array([ 1,  4,  9, 16])"
      ]
     },
     "execution_count": 23,
     "metadata": {},
     "output_type": "execute_result"
    }
   ],
   "source": [
    "vetor1 * vetor2"
   ]
  },
  {
   "cell_type": "code",
   "execution_count": 49,
   "id": "5b7d903f",
   "metadata": {},
   "outputs": [
    {
     "data": {
      "text/plain": [
       "array([ 1,  8, 27, 64])"
      ]
     },
     "execution_count": 49,
     "metadata": {},
     "output_type": "execute_result"
    }
   ],
   "source": [
    "vetor1 * vetor2 * vetor2"
   ]
  },
  {
   "cell_type": "markdown",
   "id": "2bbfde44",
   "metadata": {},
   "source": [
    "<br>\n",
    "\n",
    "---\n",
    "- ##### Potenciação Entre Matrizes Unidimensionais"
   ]
  },
  {
   "cell_type": "code",
   "execution_count": 24,
   "id": "ae37249b",
   "metadata": {},
   "outputs": [
    {
     "data": {
      "text/plain": [
       "array([  1,   4,  27, 256])"
      ]
     },
     "execution_count": 24,
     "metadata": {},
     "output_type": "execute_result"
    }
   ],
   "source": [
    "vetor2 ** vetor1"
   ]
  },
  {
   "cell_type": "code",
   "execution_count": 50,
   "id": "8c586f58",
   "metadata": {
    "scrolled": true
   },
   "outputs": [
    {
     "data": {
      "text/plain": [
       "array([            1,            16, 7625597484987,             0])"
      ]
     },
     "execution_count": 50,
     "metadata": {},
     "output_type": "execute_result"
    }
   ],
   "source": [
    "vetor1 ** vetor2 ** vetor2"
   ]
  },
  {
   "cell_type": "code",
   "execution_count": 51,
   "id": "279ea675",
   "metadata": {},
   "outputs": [
    {
     "data": {
      "text/plain": [
       "array([   1.,    0.,  -21., -248.])"
      ]
     },
     "execution_count": 51,
     "metadata": {},
     "output_type": "execute_result"
    }
   ],
   "source": [
    "vetor1 * vetor2 / vetor2 + vetor2 - vetor1 ** vetor2"
   ]
  },
  {
   "cell_type": "markdown",
   "id": "3cfd7c8c",
   "metadata": {},
   "source": [
    "<br>\n",
    "\n",
    "---\n",
    "\n",
    "## Operações Aritméticos Entre Matrizes Multidimensionais"
   ]
  },
  {
   "cell_type": "markdown",
   "id": "8f76ce92",
   "metadata": {},
   "source": [
    "#### Criando as Matrizes para Exemplificar"
   ]
  },
  {
   "cell_type": "code",
   "execution_count": 33,
   "id": "08fd500d",
   "metadata": {},
   "outputs": [
    {
     "name": "stdout",
     "output_type": "stream",
     "text": [
      "Matriz 1 2D: \n",
      "[[1 2 3]\n",
      " [1 2 3]]\n",
      "\n",
      "Matriz 2 2D: \n",
      "[[1 2 3]\n",
      " [1 2 3]]\n"
     ]
    }
   ],
   "source": [
    "matriz1_2d = np.array([[1, 2, 3], [1, 2, 3]])\n",
    "matriz2_2d = np.array([[1, 2, 3], [1, 2, 3]])\n",
    "\n",
    "print(f\"Matriz 1 2D: \\n{matriz1_2d}\\n\")\n",
    "print(f\"Matriz 2 2D: \\n{matriz2_2d}\")"
   ]
  },
  {
   "cell_type": "markdown",
   "id": "8cbc8ff6",
   "metadata": {},
   "source": [
    "<br>\n",
    "\n",
    "---\n",
    "- #####  Soma Entre Matrizes Unidimensionais"
   ]
  },
  {
   "cell_type": "code",
   "execution_count": 34,
   "id": "8a6d27d6",
   "metadata": {},
   "outputs": [
    {
     "data": {
      "text/plain": [
       "array([[2, 4, 6],\n",
       "       [2, 4, 6]])"
      ]
     },
     "execution_count": 34,
     "metadata": {},
     "output_type": "execute_result"
    }
   ],
   "source": [
    "matriz1_2d + matriz2_2d"
   ]
  },
  {
   "cell_type": "markdown",
   "id": "3183f3d0",
   "metadata": {},
   "source": [
    "<br>\n",
    "\n",
    "---\n",
    "- #####  Subtração Entre Matrizes Unidimensionais"
   ]
  },
  {
   "cell_type": "code",
   "execution_count": 35,
   "id": "7464b48e",
   "metadata": {},
   "outputs": [
    {
     "data": {
      "text/plain": [
       "array([[0, 0, 0],\n",
       "       [0, 0, 0]])"
      ]
     },
     "execution_count": 35,
     "metadata": {},
     "output_type": "execute_result"
    }
   ],
   "source": [
    "matriz1_2d - matriz2_2d"
   ]
  },
  {
   "cell_type": "markdown",
   "id": "a8091ae8",
   "metadata": {},
   "source": [
    "<br>\n",
    "\n",
    "---\n",
    "- #####  Divisão Entre Matrizes Unidimensionais"
   ]
  },
  {
   "cell_type": "code",
   "execution_count": 37,
   "id": "efc274a7",
   "metadata": {},
   "outputs": [
    {
     "data": {
      "text/plain": [
       "array([[1., 1., 1.],\n",
       "       [1., 1., 1.]])"
      ]
     },
     "execution_count": 37,
     "metadata": {},
     "output_type": "execute_result"
    }
   ],
   "source": [
    "matriz1_2d / matriz2_2d"
   ]
  },
  {
   "cell_type": "markdown",
   "id": "956da8a4",
   "metadata": {},
   "source": [
    "<br>\n",
    "\n",
    "---\n",
    "- #####  Multplicação Entre Matrizes Unidimensionais"
   ]
  },
  {
   "cell_type": "code",
   "execution_count": 38,
   "id": "05539f3e",
   "metadata": {},
   "outputs": [
    {
     "data": {
      "text/plain": [
       "array([[1, 4, 9],\n",
       "       [1, 4, 9]])"
      ]
     },
     "execution_count": 38,
     "metadata": {},
     "output_type": "execute_result"
    }
   ],
   "source": [
    "matriz1_2d * matriz2_2d"
   ]
  },
  {
   "cell_type": "markdown",
   "id": "e8625d45",
   "metadata": {},
   "source": [
    "<br>\n",
    "\n",
    "---\n",
    "- #####  Potenciação Entre Matrizes Unidimensionais"
   ]
  },
  {
   "cell_type": "code",
   "execution_count": 41,
   "id": "31d3a4cb",
   "metadata": {},
   "outputs": [
    {
     "data": {
      "text/plain": [
       "array([[ 1,  4, 27],\n",
       "       [ 1,  4, 27]])"
      ]
     },
     "execution_count": 41,
     "metadata": {},
     "output_type": "execute_result"
    }
   ],
   "source": [
    "matriz1_2d ** matriz2_2d"
   ]
  },
  {
   "cell_type": "code",
   "execution_count": 52,
   "id": "0e5a4124",
   "metadata": {},
   "outputs": [
    {
     "data": {
      "text/plain": [
       "array([[ 2.,  6., 30.],\n",
       "       [ 2.,  6., 30.]])"
      ]
     },
     "execution_count": 52,
     "metadata": {},
     "output_type": "execute_result"
    }
   ],
   "source": [
    "matriz1_2d + matriz2_2d * matriz1_2d ** matriz1_2d / matriz1_2d"
   ]
  },
  {
   "cell_type": "code",
   "execution_count": null,
   "id": "f76b629d",
   "metadata": {},
   "outputs": [],
   "source": []
  }
 ],
 "metadata": {
  "kernelspec": {
   "display_name": "Python 3 (ipykernel)",
   "language": "python",
   "name": "python3"
  },
  "language_info": {
   "codemirror_mode": {
    "name": "ipython",
    "version": 3
   },
   "file_extension": ".py",
   "mimetype": "text/x-python",
   "name": "python",
   "nbconvert_exporter": "python",
   "pygments_lexer": "ipython3",
   "version": "3.8.10"
  }
 },
 "nbformat": 4,
 "nbformat_minor": 5
}
