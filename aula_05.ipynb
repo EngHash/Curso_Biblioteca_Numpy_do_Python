{
 "cells": [
  {
   "cell_type": "markdown",
   "id": "f82a7ff0",
   "metadata": {},
   "source": [
    "# <center> Produto  Escalar Entre Matrizes com NumPy</center> \n"
   ]
  },
  {
   "cell_type": "markdown",
   "id": "6bf5b1aa",
   "metadata": {},
   "source": [
    "#### Importando a Biblioteca NumPy"
   ]
  },
  {
   "cell_type": "code",
   "execution_count": 1,
   "id": "97fd8eb7",
   "metadata": {},
   "outputs": [],
   "source": [
    "import numpy as np"
   ]
  },
  {
   "cell_type": "markdown",
   "id": "66d5813f",
   "metadata": {},
   "source": [
    "<br>\n",
    "\n",
    "## Produto  Escalar"
   ]
  },
  {
   "cell_type": "markdown",
   "id": "8142a58e",
   "metadata": {},
   "source": [
    "> O Produto Escalar, ou Produto Interno é a multiplicação de uma matriz pela outra, porém essa multiplicação entre as matrizes não seguem o mesmo processo de uma multiplicação de matriz por um escalar.\n",
    "\n",
    "> Para podermos executar um produto escalar entre matrizes, devemos observar o seguinte critério.\n",
    ">> + O número de colunas da primeira matriz deve ser igual ao número de linhas da segunda matriz.\n",
    "\n",
    "##### Exemplo:\n",
    "\n",
    "![test](rasculhos_codes_etc/prod_dot.png)"
   ]
  },
  {
   "cell_type": "markdown",
   "id": "8226e11b",
   "metadata": {},
   "source": [
    "### Caso Unidimensionais"
   ]
  },
  {
   "cell_type": "markdown",
   "id": "05ebb9aa",
   "metadata": {},
   "source": [
    " - ##### Criando as matrizes  (vetores)"
   ]
  },
  {
   "cell_type": "code",
   "execution_count": 8,
   "id": "aeba25d8",
   "metadata": {
    "scrolled": true
   },
   "outputs": [
    {
     "name": "stdout",
     "output_type": "stream",
     "text": [
      "vetor 1: [1 2 3]\n",
      "vetor 2: [2 1 6]\n"
     ]
    }
   ],
   "source": [
    "vetor1 = np.array([1, 2, 3])\n",
    "vetor2 = np.array([2, 1, 6])\n",
    "\n",
    "print(f\"vetor 1: {vetor1}\")\n",
    "print(f\"vetor 2: {vetor2}\")"
   ]
  },
  {
   "cell_type": "markdown",
   "id": "55a06e12",
   "metadata": {},
   "source": [
    "#### Encontrando o Produto Escalar com o Método np.dot() do NumPy"
   ]
  },
  {
   "cell_type": "code",
   "execution_count": 9,
   "id": "fa37c499",
   "metadata": {},
   "outputs": [
    {
     "name": "stdout",
     "output_type": "stream",
     "text": [
      "Vetor 3: 22\n"
     ]
    }
   ],
   "source": [
    "vetor3 = np.dot(vetor1, vetor2)\n",
    "print(f\"Vetor 3: {vetor3}\")"
   ]
  },
  {
   "cell_type": "markdown",
   "id": "90fdaa4f",
   "metadata": {},
   "source": [
    "<br>\n",
    "\n",
    "### Caso Multidimensional"
   ]
  },
  {
   "cell_type": "markdown",
   "id": "efc5de82",
   "metadata": {},
   "source": [
    "- #####  Criando as matrizes 2D"
   ]
  },
  {
   "cell_type": "code",
   "execution_count": 23,
   "id": "0a6658d6",
   "metadata": {},
   "outputs": [
    {
     "name": "stdout",
     "output_type": "stream",
     "text": [
      "m 1:\n",
      " [[3 1 2]\n",
      " [2 3 5]]\n",
      "\n",
      "m 2:\n",
      " [[3 1 2]\n",
      " [2 3 5]\n",
      " [5 2 3]]\n"
     ]
    }
   ],
   "source": [
    "m1 = np.array([[3, 1, 2], [2, 3, 5]])\n",
    "m2 = np.array([[3, 1, 2], [2, 3, 5], [5, 2, 3]])\n",
    "\n",
    "print(f\"m 1:\\n {m1}\\n\")\n",
    "print(f\"m 2:\\n {m2}\")"
   ]
  },
  {
   "cell_type": "markdown",
   "id": "81110f37",
   "metadata": {},
   "source": [
    "#### Encontrando o Produto Escalar com o Método np.dot() do NumPy"
   ]
  },
  {
   "cell_type": "code",
   "execution_count": 24,
   "id": "3692c039",
   "metadata": {},
   "outputs": [
    {
     "name": "stdout",
     "output_type": "stream",
     "text": [
      "m 3:\n",
      " [[21 10 17]\n",
      " [37 21 34]]\n"
     ]
    }
   ],
   "source": [
    "m3 = np.dot(m1, m2)\n",
    "print(f\"m 3:\\n {m3}\")"
   ]
  },
  {
   "cell_type": "code",
   "execution_count": null,
   "id": "d260b81f",
   "metadata": {},
   "outputs": [],
   "source": []
  }
 ],
 "metadata": {
  "kernelspec": {
   "display_name": "Python 3 (ipykernel)",
   "language": "python",
   "name": "python3"
  },
  "language_info": {
   "codemirror_mode": {
    "name": "ipython",
    "version": 3
   },
   "file_extension": ".py",
   "mimetype": "text/x-python",
   "name": "python",
   "nbconvert_exporter": "python",
   "pygments_lexer": "ipython3",
   "version": "3.8.10"
  }
 },
 "nbformat": 4,
 "nbformat_minor": 5
}
