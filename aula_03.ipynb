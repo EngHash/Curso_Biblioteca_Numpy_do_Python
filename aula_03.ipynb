{
 "cells": [
  {
   "cell_type": "markdown",
   "id": "8661667d",
   "metadata": {},
   "source": [
    "# Operadores Aritméticos Aplicados a Matrizes Numpy"
   ]
  },
  {
   "cell_type": "markdown",
   "id": "1672e11d",
   "metadata": {},
   "source": [
    "### Importando a Biblioteca Numpy"
   ]
  },
  {
   "cell_type": "code",
   "execution_count": 1,
   "id": "b7f0bdeb",
   "metadata": {},
   "outputs": [],
   "source": [
    "import numpy as np"
   ]
  },
  {
   "cell_type": "markdown",
   "id": "ebb6655e",
   "metadata": {},
   "source": [
    "### Crindo as Matrizes "
   ]
  },
  {
   "cell_type": "code",
   "execution_count": 25,
   "id": "9a5e4466",
   "metadata": {},
   "outputs": [
    {
     "data": {
      "text/plain": [
       "array([2, 3, 4])"
      ]
     },
     "execution_count": 25,
     "metadata": {},
     "output_type": "execute_result"
    }
   ],
   "source": [
    "vetor = np.array([2, 3, 4])\n",
    "vetor"
   ]
  },
  {
   "cell_type": "markdown",
   "id": "afee3de4",
   "metadata": {},
   "source": [
    "### Aplicando Operações Aritméticas em um Vetor Numpy"
   ]
  },
  {
   "cell_type": "markdown",
   "id": "943cffac",
   "metadata": {},
   "source": [
    "#### Soma"
   ]
  },
  {
   "cell_type": "code",
   "execution_count": 28,
   "id": "f5a29d5e",
   "metadata": {},
   "outputs": [
    {
     "data": {
      "text/plain": [
       "array([4, 5, 6])"
      ]
     },
     "execution_count": 28,
     "metadata": {},
     "output_type": "execute_result"
    }
   ],
   "source": [
    "vetor + 2"
   ]
  },
  {
   "cell_type": "markdown",
   "id": "20650402",
   "metadata": {},
   "source": [
    "#### Subtração"
   ]
  },
  {
   "cell_type": "code",
   "execution_count": 29,
   "id": "db6ac1f5",
   "metadata": {},
   "outputs": [
    {
     "data": {
      "text/plain": [
       "array([0, 1, 2])"
      ]
     },
     "execution_count": 29,
     "metadata": {},
     "output_type": "execute_result"
    }
   ],
   "source": [
    "vetor - 2"
   ]
  },
  {
   "cell_type": "markdown",
   "id": "b374502a",
   "metadata": {},
   "source": [
    "#### Divisão"
   ]
  },
  {
   "cell_type": "code",
   "execution_count": 30,
   "id": "e45b3cc7",
   "metadata": {},
   "outputs": [
    {
     "data": {
      "text/plain": [
       "array([1. , 1.5, 2. ])"
      ]
     },
     "execution_count": 30,
     "metadata": {},
     "output_type": "execute_result"
    }
   ],
   "source": [
    "vetor / 2"
   ]
  },
  {
   "cell_type": "markdown",
   "id": "fb885316",
   "metadata": {},
   "source": [
    "#### Multplicação"
   ]
  },
  {
   "cell_type": "code",
   "execution_count": 31,
   "id": "9e6610ea",
   "metadata": {},
   "outputs": [
    {
     "data": {
      "text/plain": [
       "array([4, 6, 8])"
      ]
     },
     "execution_count": 31,
     "metadata": {},
     "output_type": "execute_result"
    }
   ],
   "source": [
    "vetor * 2"
   ]
  },
  {
   "cell_type": "markdown",
   "id": "2bbfde44",
   "metadata": {},
   "source": [
    "#### Potenciação"
   ]
  },
  {
   "cell_type": "code",
   "execution_count": 32,
   "id": "ae37249b",
   "metadata": {},
   "outputs": [
    {
     "data": {
      "text/plain": [
       "array([ 4,  9, 16])"
      ]
     },
     "execution_count": 32,
     "metadata": {},
     "output_type": "execute_result"
    }
   ],
   "source": [
    "vetor ** 2"
   ]
  },
  {
   "cell_type": "markdown",
   "id": "3cfd7c8c",
   "metadata": {},
   "source": [
    "### Aplicando Operações Aritméticas em um Matriz 2D Numpy"
   ]
  },
  {
   "cell_type": "code",
   "execution_count": 33,
   "id": "08fd500d",
   "metadata": {},
   "outputs": [
    {
     "data": {
      "text/plain": [
       "array([[1, 2, 3],\n",
       "       [4, 5, 6],\n",
       "       [4, 5, 6]])"
      ]
     },
     "execution_count": 33,
     "metadata": {},
     "output_type": "execute_result"
    }
   ],
   "source": [
    "matriz_2d = np.array([[1, 2, 3], [4, 5, 6], [4, 5, 6]])\n",
    "matriz_2d "
   ]
  },
  {
   "cell_type": "markdown",
   "id": "8cbc8ff6",
   "metadata": {},
   "source": [
    "#### Soma"
   ]
  },
  {
   "cell_type": "code",
   "execution_count": 34,
   "id": "8a6d27d6",
   "metadata": {},
   "outputs": [
    {
     "data": {
      "text/plain": [
       "array([[3, 4, 5],\n",
       "       [6, 7, 8],\n",
       "       [6, 7, 8]])"
      ]
     },
     "execution_count": 34,
     "metadata": {},
     "output_type": "execute_result"
    }
   ],
   "source": [
    "matriz_2d + 2"
   ]
  },
  {
   "cell_type": "markdown",
   "id": "3183f3d0",
   "metadata": {},
   "source": [
    "#### Subtração"
   ]
  },
  {
   "cell_type": "code",
   "execution_count": 35,
   "id": "7464b48e",
   "metadata": {},
   "outputs": [
    {
     "data": {
      "text/plain": [
       "array([[-1,  0,  1],\n",
       "       [ 2,  3,  4],\n",
       "       [ 2,  3,  4]])"
      ]
     },
     "execution_count": 35,
     "metadata": {},
     "output_type": "execute_result"
    }
   ],
   "source": [
    "matriz_2d - 2"
   ]
  },
  {
   "cell_type": "markdown",
   "id": "a8091ae8",
   "metadata": {},
   "source": [
    "#### Divisão"
   ]
  },
  {
   "cell_type": "code",
   "execution_count": 36,
   "id": "efc274a7",
   "metadata": {},
   "outputs": [
    {
     "data": {
      "text/plain": [
       "array([[0.5, 1. , 1.5],\n",
       "       [2. , 2.5, 3. ],\n",
       "       [2. , 2.5, 3. ]])"
      ]
     },
     "execution_count": 36,
     "metadata": {},
     "output_type": "execute_result"
    }
   ],
   "source": [
    "matriz_2d / 2"
   ]
  },
  {
   "cell_type": "markdown",
   "id": "956da8a4",
   "metadata": {},
   "source": [
    "#### Multplicação"
   ]
  },
  {
   "cell_type": "code",
   "execution_count": 37,
   "id": "05539f3e",
   "metadata": {},
   "outputs": [
    {
     "data": {
      "text/plain": [
       "array([[ 2,  4,  6],\n",
       "       [ 8, 10, 12],\n",
       "       [ 8, 10, 12]])"
      ]
     },
     "execution_count": 37,
     "metadata": {},
     "output_type": "execute_result"
    }
   ],
   "source": [
    "matriz_2d * 2"
   ]
  },
  {
   "cell_type": "markdown",
   "id": "e8625d45",
   "metadata": {},
   "source": [
    "#### Potenciação"
   ]
  },
  {
   "cell_type": "code",
   "execution_count": 38,
   "id": "17f9d7f5",
   "metadata": {},
   "outputs": [
    {
     "data": {
      "text/plain": [
       "array([[ 1,  4,  9],\n",
       "       [16, 25, 36],\n",
       "       [16, 25, 36]])"
      ]
     },
     "execution_count": 38,
     "metadata": {},
     "output_type": "execute_result"
    }
   ],
   "source": [
    "matriz_2d ** 2"
   ]
  }
 ],
 "metadata": {
  "kernelspec": {
   "display_name": "Python 3 (ipykernel)",
   "language": "python",
   "name": "python3"
  },
  "language_info": {
   "codemirror_mode": {
    "name": "ipython",
    "version": 3
   },
   "file_extension": ".py",
   "mimetype": "text/x-python",
   "name": "python",
   "nbconvert_exporter": "python",
   "pygments_lexer": "ipython3",
   "version": "3.8.10"
  }
 },
 "nbformat": 4,
 "nbformat_minor": 5
}
